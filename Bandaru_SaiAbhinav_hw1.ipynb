{
 "cells": [
  {
   "cell_type": "markdown",
   "metadata": {},
   "source": [
    "# CS 584 :: Data Mining :: George Mason University :: Fall 2022\n",
    "\n",
    "\n",
    "# Homework 1: KNN&PCA\n",
    "\n",
    "- **100 points [9% of your final grade]**\n",
    "- **Due Friday, September 23 by 11:59pm**\n",
    "\n",
    "- *Goals of this homework:* (1) implement the KNN algorithm for classifying handwritten digit images; (2) implement the PCA algorithm to reduce the feature dimension so that we can speed up the KNN algorithm and also improve the classification performance; (3) tune the hyperparameters of the KNN and PCA algorithms to produce classification result as good as possible.\n",
    "\n",
    "- *Submission instructions:* for this homework, you need to submit to two different platforms. First, you should submit your notebook file to **Blackboard** (look for the homework 1 assignment there). Please name your submission **FirstName_Lastname_hw1.ipynb**, so for example, my submission would be something like **Ziwei_Zhu_hw1.ipynb**. Your notebook should be fully executed so that we can see all outputs. Then, you need to output a txt file from this notebook (you will see later in this notebook) and submit it to the HW1 page in the http://miner2.vsnet.gmu.edu website."
   ]
  },
  {
   "cell_type": "markdown",
   "metadata": {},
   "source": [
    "## Part 1: KNN (40 points)\n",
    "\n",
    "In this part, you need to implement your own KNN algorithm for classifying the digits (from 0 to 9) from the handwritten digit images (28 pixel * 28 pixel). The provided train.txt is the training data you will use for building your model. Each line in the file is one sample, whose first value is the ground-truth label and the following 784 values are the pixels of the image. First of all, let's load the data by excuting the following code."
   ]
  },
  {
   "cell_type": "code",
   "execution_count": 48,
   "metadata": {},
   "outputs": [
    {
     "name": "stdout",
     "output_type": "stream",
     "text": [
      "array of labels: shape (60000,)\n",
      "array of feature matrix: shape (60000, 784)\n"
     ]
    }
   ],
   "source": [
    "import numpy as np\n",
    "\n",
    "data = np.loadtxt(\"train.txt\", delimiter=',')\n",
    "labels = data[:, 0].astype(int)\n",
    "features = data[:, 1:]\n",
    "\n",
    "print('array of labels: shape ' + str(np.shape(labels)))\n",
    "print('array of feature matrix: shape ' + str(np.shape(features)))"
   ]
  },
  {
   "cell_type": "markdown",
   "metadata": {},
   "source": [
    "Now, we have the label variable to store the ground-truth labels (from 0 to 9) of all 60,000 samples, and matrix features to store the image pixels of these samples. Next, let's excute the following code to plot the first 4 samples to see how these images look like."
   ]
  },
  {
   "cell_type": "code",
   "execution_count": 53,
   "metadata": {},
   "outputs": [
    {
     "data": {
      "image/png": "[encoded data removed]",
      "text/plain": [
       "<Figure size 720x3600 with 4 Axes>"
      ]
     },
     "metadata": {
      "needs_background": "light"
     },
     "output_type": "display_data"
    }
   ],
   "source": [
    "import matplotlib.pyplot as plt \n",
    "fig, ax = plt.subplots(1, 4, figsize=(10, 50))\n",
    "for i in range(4):  \n",
    "    ax[i].imshow(features[i].reshape((28, 28)), cmap=plt.get_cmap('gray'))\n",
    "    ax[i].set_title('Label is %d' % labels[i])"
   ]
  },
  {
   "cell_type": "markdown",
   "metadata": {},
   "source": [
    "Next, you need to randomly select 20% samples from the data as the **validation set**, and generate the new **training set** by removing the selected validation samples from the original dataset. Write your code in the next cell."
   ]
  },
  {
   "cell_type": "code",
   "execution_count": 56,
   "metadata": {},
   "outputs": [
    {
     "name": "stdout",
     "output_type": "stream",
     "text": [
      "12000\n",
      "48000\n",
      "12000\n",
      "48000\n"
     ]
    }
   ],
   "source": [
    "import random\n",
    "\n",
    "temporary = list(zip(features, labels))\n",
    "random.shuffle(temporary)\n",
    "feature, label = zip(*temporary)\n",
    "label=np.asarray(label)\n",
    "feature=np.asarray(feature)\n",
    "div=int(0.8*len(label))                                   #splitting training and testing(validationset) for labels and feature. \n",
    "                                                            #20% samples from the data as the validation set and training as 80%\n",
    "div1=int(0.8*len(feature))\n",
    "labeltrainingset, labelvalidationset = label[:div],label[div:]\n",
    "featuretrainingset, featurevalidationset = feature[:div1],feature[div1:]\n",
    "\n",
    "\n",
    "print(len(labelvalidationset))          #splitting training and testing(validationset) for labels and feature. \n",
    "                                          #20% samples from the data as the validation set \n",
    "print(len(labeltrainingset))\n",
    "\n",
    "print(len(featurevalidationset))\n",
    "print(len(featuretrainingset))\n",
    "\n",
    "\n"
   ]
  },
  {
   "cell_type": "markdown",
   "metadata": {},
   "source": [
    "Now, it's time to implement your KNN algorithm. In the next cell, please write your code to predict labels for samples in the validation set by the KNN model built on the training set. Here we set K = 10 and use the Euclidean distance to find neighbors.\n",
    "\n",
    "**Note: You should implement the algorithm by Python, Numpy, and other libraries you think are necessary. You are NOT allowed to directly call APIs from an exiting Machine Learning library like sklearn.**\n",
    "\n",
    "**Note: Here, you should only use the labels from the training set for the KNN model.**"
   ]
  },
  {
   "cell_type": "code",
   "execution_count": 57,
   "metadata": {},
   "outputs": [
    {
     "name": "stdout",
     "output_type": "stream",
     "text": [
      "[2 5 5 ... 3 1 5]\n"
     ]
    }
   ],
   "source": [
    "import numpy as np\n",
    "from collections import Counter\n",
    " \n",
    "def bestpredictions(labels):\n",
    "    occurence_count = Counter(labels)                                    #bestpredictions function returns most frequent element in list\n",
    "    return occurence_count.most_common(1)[0][0]\n",
    "\n",
    "\n",
    "def knn(xtra,ytra,xtest,k):                                           #knn function to calculate k nearest neighbours(knn)\n",
    "    finalli=[]\n",
    "    for testpoint in xtest:                                                     \n",
    "        eudistance = []\n",
    "        for i in range(xtra.shape[0]): \n",
    "            distanceofpoints =np.sqrt(np.sum((np.array(xtra[i,:])- testpoint)**2))  #calculating euclidean distance between testpoint and training set \n",
    "            eudistance.append(distanceofpoints)                                   #and appending the distance to eudistance list\n",
    "        eudistance = np.array(eudistance) \n",
    "        #print(\"total list\")\n",
    "        #print(eudistance)\n",
    "        sortedlist = np.argsort(eudistance)[:k]                          #sorting and returning the indexes which has lowest euclidean distance value\n",
    "        sortedlistindex=[]\n",
    "        sortedlistindex=sortedlist.tolist()\n",
    "        #print(\"sorted list\")\n",
    "        #print(sortedlistindex)\n",
    "        finallabel = ytra[sortedlistindex]                          #using the indexes to find therespective labels\n",
    "        finallabels=[]\n",
    "        finallabels=finallabel.tolist()\n",
    "        #print(\"labels\")\n",
    "        #print(finallabels)                                           #selecting the label which has max repetitions as the nearest prediction label\n",
    "        finalli.append(bestpredictions(finallabels))                     # storing the nearest label point in finalli list\n",
    "    return finalli\n",
    "                                                                         \n",
    "finallist=[]                                              \n",
    "finallist=knn(featuretrainingset,labeltrainingset,featurevalidationset,k=10)\n",
    "print(np.array(finallist))                                                         #printing the nearest neighbours"
   ]
  },
  {
   "cell_type": "markdown",
   "metadata": {},
   "source": [
    "Then, please write code to compute the Accuracy, and Micro-averaged and Macro-averaged F1 scores to evaluate the performance on the validation set and print out these three metrics."
   ]
  },
  {
   "cell_type": "code",
   "execution_count": 67,
   "metadata": {},
   "outputs": [
    {
     "name": "stdout",
     "output_type": "stream",
     "text": [
      "accuracy\n",
      "0.9705\n",
      "f1macro\n",
      "0.9702944700199824\n",
      "f1micro\n",
      "0.9846590909090909\n"
     ]
    }
   ],
   "source": [
    "accuracyofm = (finallist == labelvalidationset).sum() / labelvalidationset.shape[0]\n",
    "print(\"accuracy\")\n",
    "print (accuracyofm)                                                 #printing accuracy\n",
    "\n",
    "import numpy as np\n",
    "def f1(ytru, labepred):\n",
    "    tp = np.sum(np.multiply([i==True for i in labepred], ytru))                             # building confusion matrix\n",
    "    tn = np.sum(np.multiply([i==False for i in labepred], [not(j) for j in ytru]))\n",
    "    fp = np.sum(np.multiply([i==True for i in labepred], [not(j) for j in ytru]))\n",
    "    fn = np.sum(np.multiply([i==False for i in labepred], ytru))\n",
    "    preci = tp/(tp+fp)                                                         #this is precision\n",
    "    rekal = tp/(tp+fn)                                                         #this is recall\n",
    "    if preci != 0 and rekal != 0:\n",
    "        f1 = (2*preci*rekal)/(preci + rekal)\n",
    "    else:\n",
    "        f1 = 0\n",
    "    return f1\n",
    "\n",
    "def f1macro(ytru, ypred):\n",
    "    macro = []                                        #this function is used to calculate f1 macro fpr test set and generated predictions\n",
    "    for points in np.unique(ytru):\n",
    "        motru = [points==spoints for spoints in ytru]\n",
    "        mopred = [points==spoints for spoints in ypred]\n",
    "        score = f1(motru, mopred)\n",
    "        macro.append(score)\n",
    "    return np.mean(macro)\n",
    "def f1micro(ytru,ypred):\n",
    "    tp = np.sum(np.multiply([i==True for i in ypred], ytru))\n",
    "    tn = np.sum(np.multiply([i==False for i in ypred], [not(j) for j in ytru]))          #this function is to calculate f1micro\n",
    "    fp = np.sum(np.multiply([i==True for i in ypred], [not(j) for j in ytru]))\n",
    "    fn = np.sum(np.multiply([i==False for i in ypred], ytru))\n",
    "    resu=tp/(tp+((1/2)*(fp+fn)))\n",
    "    return resu\n",
    "\n",
    "print(\"f1macro\")\n",
    "print(f1macro(labelvalidationset,finallist))\n",
    "print(\"f1micro\")                                           #printing f1macro f1micro for labelvalidation and the generated predictions\n",
    "print(f1micro(labelvalidationset,finallist))"
   ]
  },
  {
   "cell_type": "markdown",
   "metadata": {},
   "source": [
    "## Part 2: PCA (30 points)\n",
    "\n",
    "In this part, you will implement the PCA algorithm to reduce the input dimension for the handwritten digit recognition task. In the next cell, please write your code to compute the transformation matrix in the PCA method for the training set we got from the previous part. Here, we only keep the **top 50 dimensions**.\n",
    "\n",
    "**Hint: You can use the function from the Numpy library np.linalg.svd() to compute SVD.**\n",
    "\n",
    "**Note: You should only use the training set to compute PCA without using validation set.**"
   ]
  },
  {
   "cell_type": "code",
   "execution_count": 66,
   "metadata": {},
   "outputs": [
    {
     "name": "stdout",
     "output_type": "stream",
     "text": [
      "reduced pca \n",
      "[[ -70.09467809-0.j  448.80463501-0.j  393.54770028-0.j ...\n",
      "   189.72102305-0.j  215.81250249-0.j -595.15655932-0.j]\n",
      " [   2.69770998-0.j  644.40014295-0.j   19.04981109-0.j ...\n",
      "   170.4598564 -0.j  717.81283999-0.j -346.49562858-0.j]\n",
      " [-654.72043623-0.j  138.31571968-0.j 1034.62976462-0.j ...\n",
      "  -329.44611072-0.j -454.25060499-0.j -643.35798548-0.j]\n",
      " ...\n",
      " [ 297.48312277-0.j -569.99211593-0.j  387.10251256-0.j ...\n",
      "   148.39331453-0.j  189.77161867-0.j   98.18671107-0.j]\n",
      " [  25.89678612-0.j  344.75054656-0.j -722.06301952-0.j ...\n",
      "    18.2349275 -0.j  657.04657507-0.j  344.0922719 -0.j]\n",
      " [-363.53019704-0.j  173.42445546-0.j  299.54032661-0.j ...\n",
      "   193.47782446-0.j  445.73954665-0.j -290.72085602-0.j]]\n"
     ]
    }
   ],
   "source": [
    "# Write your code here\n",
    "def pca(featuretrains,k):\n",
    "    featuretrain=featuretrains                                                          # here k is top 50 dimensions\n",
    "    featuretrain = featuretrain - featuretrain.mean(axis=0)               # Centering the data points to get centered Matrix\n",
    "    cov = np.cov(featuretrain.T) / featuretrain.shape[0]                 # building covariance matrix\n",
    "    vec, wa = np.linalg.eig(cov)\n",
    "    indx = vec.argsort()[::-1]                             # Sorting in descending order and getting the indices\n",
    "    vec = vec[indx]                                       # Using  indices on eigen vectors\n",
    "    wa = wa[:,indx] \n",
    "\n",
    "    finalarr=featuretrain.dot(wa[:, :k])                    #storing them in finalarr\n",
    "    finalarr=np.negative(finalarr)\n",
    "    return finalarr\n",
    "pcaarr=pca(featuretrainingset,k=10)\n",
    "print(\"reduced pca \")\n",
    "print(pcaarr)                                                           #printing the reduced pca"
   ]
  },
  {
   "cell_type": "markdown",
   "metadata": {},
   "source": [
    "Now, you need to apply the computed transformation matrix to reduce the dimension for the training set and the validation set. Then, build a new KNN model on the dimension-reduced traning data and predict the labels for the dimension-reduced validation set. Report the Accuracy, and Micro-averaged and Macro-averaged F1 scores."
   ]
  },
  {
   "cell_type": "code",
   "execution_count": null,
   "metadata": {},
   "outputs": [],
   "source": [
    "# Write your code here\n",
    "featrainpca=pca(featuretrainingset,k=10)\n",
    "feavalipca=pca(featurevalidationset,k=10)\n",
    "updatedpredictions=knn(featrainpca,labeltrainingset,feavalipca,k=10)\n",
    "accuracy = (updatedpredictions == labelvalidationset).sum() / labelvalidationset.shape[0]\n",
    "print (accuracy) \n",
    "print(\"f1macro\")\n",
    "print(f1macro(labelvalidationset,updatedpredictions))\n",
    "print(\"f1micro\")                                           #printing f1macro f1micro for labelvalidation and the updated predictions\n",
    "print(f1micro(labelvalidationset,updatedpredictions))\n"
   ]
  },
  {
   "cell_type": "markdown",
   "metadata": {},
   "source": [
    "## Part 3: Tune Hyperparameter [Need to submit to Miner2] (30 points)\n",
    "\n",
    "In this part, you need to do your best to tune the hyperparameter in KNN and PCA to build the best model and submit the predictions for the testing data to Miner2 system. First of all, let's load the testing data by excuting the following code."
   ]
  },
  {
   "cell_type": "code",
   "execution_count": null,
   "metadata": {},
   "outputs": [],
   "source": [
    "test_features = np.loadtxt(\"test.txt\", delimiter=',')\n",
    "print('array of testing feature matrix: shape ' + str(np.shape(test_features)))\n",
    "\n",
    "# writing the logic for hyperparmeter tuning in this block\n",
    "bestpredictionsfin=finallist\n",
    "bestacc=accuracyofm\n",
    "valofk=10\n",
    "for i in range(10):\n",
    "    knnpred=knn(featuretrainingset,labeltrainingset,featurevalidationset,i)\n",
    "    accuracyofknn = (knnpred == labelvalidationset).sum() / labelvalidationset.shape[0]\n",
    "    if(accuracyofknn>bestacc):\n",
    "        bestacc=accuracyofknn\n",
    "        bestpredictionsfin=knnpred\n",
    "        valofk=i\n",
    "for j in range(0,100,10) :\n",
    "    featrpc=pca(featuretrainingset,j)\n",
    "    featepc=pca(featurevalidationset,j)\n",
    "    knnpred=knn(featrpc,labeltrainingset,featepc,valofk)\n",
    "    accuracyofknn = (knnpred == labelvalidationset).sum() / labelvalidationset.shape[0]\n",
    "    if(accuracyofknn>bestacc):\n",
    "        bestacc=accuracyofknn\n",
    "        bestpredictionsfin=knnpred\n",
    "        "
   ]
  },
  {
   "cell_type": "markdown",
   "metadata": {},
   "source": [
    "Now, you should tune three hyperparameters:\n",
    "\n",
    "- the number of nearest neighbors in KNN \n",
    "- the distance measurement (choose from Euclidean distance, L1 norm distance, and cosine distance)\n",
    "- the number of dimensions kept in PCA \n",
    "\n",
    "Rules:\n",
    "\n",
    "- Write your predictions for samples in the testing set into a file, in which each line has one integer indicating the prediction from your best model for the corresponding sample in the test.txt file. Please see the format.txt file in Miner2 as one submission example. Name the submission file hw1_Miner2.txt and submit it to Miner2 HW1 page.\n",
    "- The public leaderboard shows results for 50% of randomly chosen test instances only. This is a standard practice in data mining challenge to avoid gaming of the system. The private leaderboard will be released after the deadline evaluates all the entries in the test set.\n",
    "- You are allowed 5 submissions in a 24 hour cycle. \n",
    "- The final score and ranking will always be based on the last submission.\n",
    "- Grading will only be based on the model performance (based on Accuracy metric) instead of ranking. You'll get full credit as long as your socre is a reasonable number.\n",
    "\n",
    "\n",
    "**Hint: You can tune these hyperparameters by one randomly generated validation set (like what you have done in previous parts), or you can also use the cross-validation method.**"
   ]
  },
  {
   "cell_type": "code",
   "execution_count": 68,
   "metadata": {},
   "outputs": [],
   "source": [
    "# Write your code here\n",
    "with open(\"hw1_Miner2.txt\", \"w\") as file:\n",
    "    p = [str(pred)+\"\\n\" for pred in finallist]\n",
    "    file.writelines(p)"
   ]
  },
  {
   "cell_type": "markdown",
   "metadata": {},
   "source": [
    "### Question: What is your final hyperparameter setting? How do you tune them? What choices have you tried?"
   ]
  },
  {
   "cell_type": "markdown",
   "metadata": {},
   "source": [
    "#### Write your answer here"
   ]
  },
  {
   "cell_type": "code",
   "execution_count": null,
   "metadata": {},
   "outputs": [],
   "source": [
    "number of dimensions 50\n",
    "k=10\n",
    "metric=euclid"
   ]
  },
  {
   "cell_type": "markdown",
   "metadata": {},
   "source": [
    "### Question: your username in Miner2 and the score&ranking of your submission in Miner2 (at the time of answering this question)"
   ]
  },
  {
   "cell_type": "markdown",
   "metadata": {},
   "source": [
    "#### Write your answer here"
   ]
  },
  {
   "cell_type": "code",
   "execution_count": null,
   "metadata": {},
   "outputs": [],
   "source": [
    " Dataset large to perform analysis in real time and taking several hours to get the output"
   ]
  }
 ],
 "metadata": {
  "anaconda-cloud": {},
  "kernelspec": {
   "display_name": "Python 3 (ipykernel)",
   "language": "python",
   "name": "python3"
  },
  "language_info": {
   "codemirror_mode": {
    "name": "ipython",
    "version": 3
   },
   "file_extension": ".py",
   "mimetype": "text/x-python",
   "name": "python",
   "nbconvert_exporter": "python",
   "pygments_lexer": "ipython3",
   "version": "3.9.12"
  }
 },
 "nbformat": 4,
 "nbformat_minor": 1
}
